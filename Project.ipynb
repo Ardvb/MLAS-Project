{
 "cells": [
  {
   "cell_type": "markdown",
   "metadata": {},
   "source": [
    "# Machine Learning and Statistics Project 2020"
   ]
  },
  {
   "cell_type": "code",
   "execution_count": null,
   "metadata": {},
   "outputs": [],
   "source": [
    "# Import all necessary libraries\n",
    "\n",
    "# Numerical arrays\n",
    "import numpy as np\n",
    "\n",
    "#For plotting\n",
    "import matplotlib.pyplot as plt\n",
    "\n",
    "%matplotlib inline \n",
    "# Magic fix\n",
    "\n",
    "# Data frames\n",
    "import pandas as pd\n",
    "\n",
    "from sklearn.linear_model import LinearRegression\n",
    "\n",
    "from sklearn.preprocessing import PolynomialFeatures\n",
    "\n",
    "# To split dataset into train and test parts\n",
    "from sklearn.model_selection import train_test_split\n",
    "\n",
    "# To calculate mean_squared_error\n",
    "from sklearn.metrics import mean_squared_error\n",
    "\n",
    "#Plotting library\n",
    "import seaborn as sns\n",
    "\n",
    "# machine learning\n",
    "import sklearn.linear_model as lm\n",
    "\n",
    "# Import neural networks\n",
    "import tensorflow.keras as kr\n",
    "\n",
    "# To use gradient boosting regression model\n",
    "from sklearn.ensemble import GradientBoostingRegressor\n",
    "\n",
    "# to use randomforest regression model\n",
    "from sklearn.ensemble import RandomForestRegressor"
   ]
  },
  {
   "cell_type": "markdown",
   "metadata": {},
   "source": [
    "For the project of this module we have been asked to create a web service that uses machine learning to make predictions based on the data in dataset <i>power production</i>. The goal is to produce a model that accurately predicts the wind turbine power output from the wind speed. After that, we have to develop a web service that will respond with predicted power values, based on speed values sent as HTTP requests."
   ]
  },
  {
   "cell_type": "markdown",
   "metadata": {},
   "source": [
    "### Exploration of dataset and preprocessing"
   ]
  },
  {
   "cell_type": "markdown",
   "metadata": {},
   "source": [
    "Let's have a look at the dataset first. And then use regression to look at the relationship between wind speed and power output."
   ]
  },
  {
   "cell_type": "code",
   "execution_count": null,
   "metadata": {},
   "outputs": [],
   "source": []
  },
  {
   "cell_type": "code",
   "execution_count": null,
   "metadata": {},
   "outputs": [],
   "source": []
  },
  {
   "cell_type": "code",
   "execution_count": null,
   "metadata": {},
   "outputs": [],
   "source": [
    "windpower = pd.read_csv('https://raw.githubusercontent.com/ianmcloughlin/2020A-machstat-project/master/dataset/powerproduction.csv')\n",
    "windpower"
   ]
  },
  {
   "cell_type": "code",
   "execution_count": null,
   "metadata": {},
   "outputs": [],
   "source": [
    "windpower.isna().sum() # Check for missing values. https://www.analyticsvidhya.com/blog/2020/01/build-your-first-machine-learning-pipeline-using-scikit-learn/?utm_source=blog&utm_medium=polynomial-regression-python"
   ]
  },
  {
   "cell_type": "markdown",
   "metadata": {},
   "source": [
    "It turns out there are no missing values. That means the dataset consists of 500 measured values of wind speed and the corresponding power outputs."
   ]
  },
  {
   "cell_type": "code",
   "execution_count": null,
   "metadata": {
    "scrolled": true
   },
   "outputs": [],
   "source": [
    "windpower.describe()"
   ]
  },
  {
   "cell_type": "code",
   "execution_count": null,
   "metadata": {},
   "outputs": [],
   "source": []
  },
  {
   "cell_type": "code",
   "execution_count": null,
   "metadata": {},
   "outputs": [],
   "source": []
  },
  {
   "cell_type": "code",
   "execution_count": null,
   "metadata": {},
   "outputs": [],
   "source": []
  },
  {
   "cell_type": "code",
   "execution_count": null,
   "metadata": {},
   "outputs": [],
   "source": [
    "sns.pairplot(windpower)"
   ]
  },
  {
   "cell_type": "markdown",
   "metadata": {},
   "source": [
    "There is clearly a correlation between the wind speed x and the power y. Up until a wind-speed value of about 8, the output-power is close to 0. Also it looks as if there is a certain maximum power output, that is reached at about 18 mph. It looks like there might have been a problem with the wind turbine(perhaps a powercut, or maintenance work), as there are some instances of 0 power output, despite high wind speeds. It might be wise to remove these values to make the machine learning process easier."
   ]
  },
  {
   "cell_type": "markdown",
   "metadata": {},
   "source": [
    "I will remove all values where power is 0 and speed is bigger than 10. These are nearly certainly measurements that were not taken during normal operation of the wind turbine and as such will only hinder our machine learning process."
   ]
  },
  {
   "cell_type": "code",
   "execution_count": null,
   "metadata": {},
   "outputs": [],
   "source": [
    "windpowernew = windpower.drop(windpower[(windpower[\"speed\"]> 10) & (windpower[\"power\"]==0)].index)\n",
    "# Adapted from https://www.geeksforgeeks.org/drop-rows-from-the-dataframe-based-on-certain-condition-applied-on-a-column/"
   ]
  },
  {
   "cell_type": "code",
   "execution_count": null,
   "metadata": {},
   "outputs": [],
   "source": [
    "windpowernew"
   ]
  },
  {
   "cell_type": "markdown",
   "metadata": {},
   "source": [
    "14 unwanted values have been removed."
   ]
  },
  {
   "cell_type": "markdown",
   "metadata": {},
   "source": [
    "### Using supervised machine learning on the dataset"
   ]
  },
  {
   "cell_type": "markdown",
   "metadata": {},
   "source": [
    "Since we know which y values correspond to which x values, we can use supervised machine learning to train a model to make predictions based on our dataset. Before I am going to use the dataset to build a model, I am going to split it in a train and a test set, so we can evaluate the model with data the model hasn't seen before."
   ]
  },
  {
   "cell_type": "code",
   "execution_count": null,
   "metadata": {},
   "outputs": [],
   "source": [
    "x = windpowernew.speed.values.reshape(-1,1) # Reshape to values between -1 and 1 so we can use regression analysis later\n",
    "y = windpowernew[\"power\"]"
   ]
  },
  {
   "cell_type": "code",
   "execution_count": null,
   "metadata": {},
   "outputs": [],
   "source": [
    "# Splitting the dataset into the Training set and Test set\n",
    " \n",
    "x_train, x_test, y_train, y_test = train_test_split(x, y, test_size=0.2, random_state=0) # Using random state to make test reproducible."
   ]
  },
  {
   "cell_type": "code",
   "execution_count": null,
   "metadata": {},
   "outputs": [],
   "source": [
    "x_train #388 random values to be used to train the model. The values correspond with y_train"
   ]
  },
  {
   "cell_type": "code",
   "execution_count": null,
   "metadata": {},
   "outputs": [],
   "source": [
    "x_test #98 random values to be used to test the model. Values correspond with y_test"
   ]
  },
  {
   "cell_type": "code",
   "execution_count": null,
   "metadata": {
    "scrolled": true
   },
   "outputs": [],
   "source": [
    "y_test"
   ]
  },
  {
   "cell_type": "markdown",
   "metadata": {},
   "source": [
    "### Regression"
   ]
  },
  {
   "cell_type": "markdown",
   "metadata": {},
   "source": [
    "Regression is a way to look at the relationship between a dependent and one or more independent variables. In this case, we are going to look at the possible correlation between the wind speed input, and the power output. If there is indeed a relationship, then it is crucial to find the best possible formula for making predictions based on the input (wind speed) values. First we need to choose which regression style fits our dataset the best."
   ]
  },
  {
   "cell_type": "markdown",
   "metadata": {},
   "source": [
    "#### Linear regression"
   ]
  },
  {
   "cell_type": "code",
   "execution_count": null,
   "metadata": {},
   "outputs": [],
   "source": [
    "modellin = LinearRegression().fit(x_train, y_train) # LinearRegresion creates the object that represents the model,\n",
    "# while.fit() trains the model and returns it. #https://realpython.com/train-test-split-python-data/"
   ]
  },
  {
   "cell_type": "code",
   "execution_count": null,
   "metadata": {},
   "outputs": [],
   "source": [
    "modellin.score(x_train, y_train)"
   ]
  },
  {
   "cell_type": "code",
   "execution_count": null,
   "metadata": {},
   "outputs": [],
   "source": [
    "modellin.score(x_test, y_test)"
   ]
  },
  {
   "cell_type": "markdown",
   "metadata": {},
   "source": [
    "<i>.score()</i> returns R² (coeffecient of determination) for the data passed in. The maximum value is 1, which would mean a perfect fit. The R² calculated with the test data is an unbiased measure of that model's prediction performance. https://realpython.com/train-test-split-python-data/"
   ]
  },
  {
   "cell_type": "markdown",
   "metadata": {},
   "source": [
    "It is best practice to use the <i>.score()</i> value obtained from the test set, as it represents an unbiased estimation of performance"
   ]
  },
  {
   "cell_type": "markdown",
   "metadata": {},
   "source": [
    "Our linear regression model is not doing too great on predicting y values, so let's have a look at two other potentially useful models."
   ]
  },
  {
   "cell_type": "markdown",
   "metadata": {},
   "source": [
    "#### Gradient Boosting Regressor"
   ]
  },
  {
   "cell_type": "markdown",
   "metadata": {},
   "source": [
    "Gradient boosting is a machine learning technique for regression problems. It produces a prediction model, based on many combined weak prediction models. It is a method of converting weak learners into strong learners. Gradient boosting starts with a single decision tree, and then identifies it's shortcomings by comparing the predicted and true values in a loss functions. In that loss function, it uses gradients to identify the error (y=ax+b+e, where e is the error term).\n",
    "So in this case, the loss function would be based off the error between true and predicted wind speeds. This process is repeated for many small models.If a model predicts observerations accurately, these observations are left for the original model, but where the model struggles, another, modified model is created to try and get it's predictions closer to the real values. Numerous models are created this way, increasing and decreasing weights depending on how close the prediction was to the real value. Eventually this leads to a final ensemble model, that has been optimized to get it's predictions as close as possible to the real values. \n",
    "#https://towardsdatascience.com/understanding-gradient-boosting-machines-9be756fe76ab\n",
    "#https://machinelearningmastery.com/gentle-introduction-gradient-boosting-algorithm-machine-learning/"
   ]
  },
  {
   "cell_type": "code",
   "execution_count": null,
   "metadata": {},
   "outputs": [],
   "source": [
    "modelgbr = GradientBoostingRegressor(random_state=0).fit(x_train, y_train)\n",
    "modelgbr.score(x_test, y_test)"
   ]
  },
  {
   "cell_type": "markdown",
   "metadata": {},
   "source": [
    "#### Random Forest Regressor"
   ]
  },
  {
   "cell_type": "markdown",
   "metadata": {},
   "source": [
    "A random forest is an ensemble technique capable of performing regression and classification tasks. It uses multiple decision trees and a technique called bagging. #https://medium.com/datadriveninvestor/random-forest-regression-9871bc9a25eb"
   ]
  },
  {
   "cell_type": "markdown",
   "metadata": {},
   "source": [
    "![](randomforestr.jpeg)"
   ]
  },
  {
   "cell_type": "markdown",
   "metadata": {},
   "source": [
    "Bagging means the training of each decision tree on a different data sample, where sampling is done with replacement.\n",
    "Multiple decision trees are then combined to determine the final prediction, rather than relying on individual decision trees."
   ]
  },
  {
   "cell_type": "code",
   "execution_count": null,
   "metadata": {},
   "outputs": [],
   "source": [
    "modelrfr = RandomForestRegressor(random_state=0).fit(x_train, y_train)\n",
    "modelrfr.score(x_test, y_test)"
   ]
  },
  {
   "cell_type": "code",
   "execution_count": 29,
   "metadata": {},
   "outputs": [
    {
     "data": {
      "text/plain": [
       "array([0.0000000e+00, 0.0000000e+00, 0.0000000e+00, 2.1655000e-01,\n",
       "       8.9064000e-01, 2.9695200e+00, 3.2440500e+00, 5.0703200e+00,\n",
       "       5.7283500e+00, 5.7825000e+00, 5.7391900e+00, 5.6331100e+00,\n",
       "       6.3027500e+00, 7.7938000e+00, 8.5812200e+00, 3.1711300e+00,\n",
       "       3.1430100e+00, 4.5667300e+00, 2.6250900e+00, 5.1806100e+00,\n",
       "       2.6521000e+00, 2.3980400e+00, 2.9568000e+00, 4.6998300e+00,\n",
       "       1.9039200e+00, 1.3969500e+00, 4.8318000e-01, 2.9982000e-01,\n",
       "       9.9812000e-01, 3.5738600e+00, 4.9541400e+00, 1.8941800e+00,\n",
       "       3.3456100e+00, 2.8260600e+00, 3.3091000e+00, 1.9414300e+00,\n",
       "       5.2894500e+00, 3.1796700e+00, 3.1966300e+00, 1.1574300e+00,\n",
       "       3.1784900e+00, 4.7952500e+00, 9.4070000e-02, 9.7490000e-02,\n",
       "       2.7010000e-02, 2.3985900e+00, 1.9458800e+00, 8.2742000e-01,\n",
       "       3.4808300e+00, 5.6664300e+00, 2.8055200e+00, 3.1553200e+00,\n",
       "       2.1794100e+00, 5.7575600e+00, 6.0470700e+00, 2.8635100e+00,\n",
       "       2.7063200e+00, 2.7089700e+00, 2.8003200e+00, 2.9748500e+00,\n",
       "       2.8625700e+00, 1.8432500e+00, 3.8552600e+00, 3.2459100e+00,\n",
       "       5.2462700e+00, 1.4840000e+00, 3.9220000e+00, 8.3005000e-01,\n",
       "       3.6066500e+00, 6.6144500e+00, 3.0226500e+00, 2.0918000e+00,\n",
       "       3.3154000e+00, 4.1175000e-01, 4.1175000e-01, 3.1514000e+00,\n",
       "       3.3950000e+00, 3.3950000e+00, 3.3950000e+00, 2.4005000e+00,\n",
       "       1.8855400e+00, 3.2613000e+00, 1.5257900e+00, 5.9394000e-01,\n",
       "       5.0187600e+00, 6.1747600e+00, 1.0243220e+01, 3.2194200e+00,\n",
       "       6.7250600e+00, 6.2225000e-01, 8.0647000e-01, 1.0734500e+00,\n",
       "       1.5250600e+00, 1.9590200e+00, 7.3019900e+00, 4.2904100e+00,\n",
       "       3.9111600e+00, 3.6554500e+00, 2.6887300e+00, 4.8235800e+00,\n",
       "       8.2224000e+00, 8.1272100e+00, 4.4931800e+00, 4.0636800e+00,\n",
       "       2.8468600e+00, 1.5969100e+00, 4.3257800e+00, 2.5927400e+00,\n",
       "       2.6365400e+00, 3.6855100e+00, 6.0693000e-01, 1.2201300e+00,\n",
       "       3.1473300e+00, 1.3227600e+00, 1.4335400e+00, 3.1503400e+00,\n",
       "       3.4955300e+00, 4.5808600e+00, 4.6757200e+00, 3.7015800e+00,\n",
       "       2.4187700e+00, 7.1890200e+00, 4.3305900e+00, 4.8032300e+00,\n",
       "       5.7567800e+00, 5.9412100e+00, 5.7984700e+00, 5.3415400e+00,\n",
       "       7.6052300e+00, 6.8452300e+00, 8.6092500e+00, 8.0345700e+00,\n",
       "       6.5381400e+00, 1.9503900e+00, 9.2275000e-01, 2.8722000e-01,\n",
       "       1.1464200e+00, 2.8946700e+00, 3.3953900e+00, 7.0447500e+00,\n",
       "       2.7507300e+00, 5.8801900e+00, 6.5916000e+00, 6.4808800e+00,\n",
       "       6.7354600e+00, 5.7465900e+00, 4.4480500e+00, 3.9006700e+00,\n",
       "       3.2811700e+00, 1.4214900e+00, 7.2670100e+00, 7.3604000e+00,\n",
       "       8.0569000e+00, 8.0902600e+00, 7.7315600e+00, 8.5650800e+00,\n",
       "       6.3975600e+00, 9.5844400e+00, 9.8366000e+00, 9.8057400e+00,\n",
       "       7.6627600e+00, 1.2083730e+01, 8.1725000e+00, 6.6846600e+00,\n",
       "       6.8199100e+00, 9.9519800e+00, 8.1437300e+00, 8.1695500e+00,\n",
       "       8.9936300e+00, 6.7634200e+00, 5.5436500e+00, 7.5698700e+00,\n",
       "       1.3191030e+01, 1.3670910e+01, 1.0873710e+01, 9.4148500e+00,\n",
       "       1.1804300e+01, 1.4055710e+01, 1.5197360e+01, 9.2232200e+00,\n",
       "       1.2217830e+01, 1.3483930e+01, 1.3320690e+01, 1.7423380e+01,\n",
       "       1.6591570e+01, 1.2688690e+01, 1.2694530e+01, 1.6479950e+01,\n",
       "       1.5315970e+01, 1.5315970e+01, 1.4788030e+01, 1.4775490e+01,\n",
       "       1.3862280e+01, 1.3807670e+01, 1.4028330e+01, 1.6819350e+01,\n",
       "       2.2586650e+01, 2.2761090e+01, 1.9604010e+01, 1.9685550e+01,\n",
       "       2.0674120e+01, 2.3389610e+01, 2.6905810e+01, 2.3105150e+01,\n",
       "       2.1532640e+01, 2.1764160e+01, 1.9349460e+01, 1.7367040e+01,\n",
       "       1.7652640e+01, 2.3332750e+01, 1.9178270e+01, 1.9354600e+01,\n",
       "       2.2802110e+01, 3.0145880e+01, 3.0015510e+01, 2.8664160e+01,\n",
       "       2.8461720e+01, 2.8411070e+01, 3.0537100e+01, 3.0064580e+01,\n",
       "       3.2236060e+01, 3.7937890e+01, 3.8554830e+01, 3.5150010e+01,\n",
       "       3.7260330e+01, 3.8082930e+01, 3.5503480e+01, 4.1097490e+01,\n",
       "       4.1760640e+01, 3.9590020e+01, 3.9616120e+01, 4.1076020e+01,\n",
       "       4.3566990e+01, 4.7366330e+01, 4.1611530e+01, 4.4766000e+01,\n",
       "       4.1858390e+01, 4.1983850e+01, 4.2882840e+01, 4.2828500e+01,\n",
       "       4.4906960e+01, 4.4464070e+01, 4.4526990e+01, 4.0760360e+01,\n",
       "       3.9181160e+01, 3.9079680e+01, 4.3894180e+01, 4.4620750e+01,\n",
       "       4.5460180e+01, 4.5867040e+01, 4.9138240e+01, 4.9227370e+01,\n",
       "       4.7239040e+01, 4.7211910e+01, 4.7905270e+01, 4.9438500e+01,\n",
       "       4.9945970e+01, 5.2135040e+01, 5.2594750e+01, 5.1235600e+01,\n",
       "       5.5233730e+01, 6.0640220e+01, 6.1007720e+01, 6.1007720e+01,\n",
       "       6.2954660e+01, 6.4508300e+01, 6.5127840e+01, 6.3938140e+01,\n",
       "       6.2050980e+01, 6.2906180e+01, 6.4971470e+01, 6.5004780e+01,\n",
       "       6.6688500e+01, 6.8036780e+01, 6.6977200e+01, 6.6832260e+01,\n",
       "       6.7027650e+01, 6.7658180e+01, 6.7899930e+01, 6.8204580e+01,\n",
       "       7.2850600e+01, 6.7387120e+01, 7.0751210e+01, 7.2257770e+01,\n",
       "       7.3467310e+01, 7.4253360e+01, 7.7129960e+01, 7.6167710e+01,\n",
       "       7.3015210e+01, 7.2934000e+01, 7.4356770e+01, 7.3200790e+01,\n",
       "       7.5295600e+01, 7.6821200e+01, 7.7179030e+01, 7.7072830e+01,\n",
       "       7.7101980e+01, 7.3455920e+01, 7.3810780e+01, 7.8054370e+01,\n",
       "       7.8510670e+01, 7.9460330e+01, 8.2170090e+01, 8.0453290e+01,\n",
       "       7.9663090e+01, 8.3987660e+01, 8.2502670e+01, 8.5449430e+01,\n",
       "       8.4826320e+01, 8.3010720e+01, 8.3010720e+01, 8.2898470e+01,\n",
       "       7.9922630e+01, 8.0085800e+01, 8.1061410e+01, 8.1227850e+01,\n",
       "       8.5840540e+01, 8.6372370e+01, 8.7537050e+01, 8.9035410e+01,\n",
       "       8.8978790e+01, 9.0752690e+01, 9.3213830e+01, 8.9509250e+01,\n",
       "       9.2122910e+01, 9.5578320e+01, 9.2207490e+01, 9.0999870e+01,\n",
       "       9.2773850e+01, 9.5344510e+01, 9.6311000e+01, 9.5103410e+01,\n",
       "       9.4874450e+01, 9.5080540e+01, 9.2286820e+01, 9.2044720e+01,\n",
       "       9.3050510e+01, 9.2752430e+01, 9.4539940e+01, 9.8271350e+01,\n",
       "       9.5157820e+01, 9.1660200e+01, 9.1442930e+01, 9.4501590e+01,\n",
       "       9.5869870e+01, 9.7728810e+01, 9.6774540e+01, 8.8894340e+01,\n",
       "       8.9738610e+01, 8.9913310e+01, 9.1182330e+01, 9.4146180e+01,\n",
       "       9.8438340e+01, 9.7484680e+01, 9.3363130e+01, 9.1880680e+01,\n",
       "       9.1568120e+01, 9.4378700e+01, 9.4250400e+01, 9.1653480e+01,\n",
       "       9.0398380e+01, 9.0609940e+01, 9.8817230e+01, 9.8565880e+01,\n",
       "       9.8877550e+01, 9.9123570e+01, 9.7024210e+01, 1.0115304e+02,\n",
       "       9.9999160e+01, 9.9592690e+01, 9.6812350e+01, 9.7768170e+01,\n",
       "       9.9971130e+01, 9.7277430e+01, 9.1940510e+01, 8.9498320e+01,\n",
       "       9.1116430e+01, 9.5219110e+01, 9.9424960e+01, 1.0101866e+02,\n",
       "       1.0037553e+02, 9.8453530e+01, 1.0194869e+02, 1.0089189e+02,\n",
       "       9.8324850e+01, 9.9272620e+01, 9.5888620e+01, 9.5888620e+01,\n",
       "       9.2601850e+01, 9.2113330e+01, 9.2743180e+01, 9.5355830e+01,\n",
       "       9.5320910e+01, 9.5427590e+01, 9.3931070e+01, 9.4561520e+01,\n",
       "       9.4858780e+01, 1.0017790e+02, 9.6215550e+01, 9.9117880e+01,\n",
       "       9.8817800e+01, 9.8523330e+01, 9.2571050e+01, 9.2715850e+01,\n",
       "       9.5586450e+01, 9.9348230e+01, 9.7290880e+01, 9.7731040e+01,\n",
       "       1.0141114e+02, 1.0141114e+02, 9.9100310e+01, 9.9282840e+01,\n",
       "       1.0263692e+02, 1.0729831e+02, 1.0332853e+02, 9.6540740e+01,\n",
       "       9.6355120e+01, 1.0359712e+02, 9.8952850e+01, 9.7933500e+01,\n",
       "       9.9899710e+01, 9.4225310e+01, 9.4225310e+01, 9.8228370e+01,\n",
       "       9.9472000e+01, 9.6439260e+01, 9.3256060e+01, 1.0268348e+02,\n",
       "       1.0398396e+02, 1.0085159e+02, 1.0305610e+02, 1.0359775e+02,\n",
       "       1.0391191e+02, 1.0400365e+02, 1.0327825e+02, 1.0038590e+02,\n",
       "       9.6430980e+01, 9.5023540e+01, 9.4933980e+01, 9.8863920e+01,\n",
       "       9.8863920e+01, 9.8444430e+01, 1.0197711e+02, 1.0433550e+02,\n",
       "       1.0703115e+02, 1.0195800e+02, 9.9877560e+01, 9.8811180e+01,\n",
       "       9.6629820e+01, 1.0123633e+02, 9.9374460e+01, 1.0061443e+02,\n",
       "       1.0050654e+02, 1.0138506e+02, 1.0174907e+02, 1.0344797e+02,\n",
       "       1.0453133e+02, 1.0842959e+02, 1.0176533e+02, 9.9385100e+01,\n",
       "       1.0493532e+02, 1.0509515e+02, 9.7729280e+01, 9.4915290e+01,\n",
       "       9.4352840e+01, 9.8900240e+01, 1.0015193e+02, 1.0063949e+02,\n",
       "       1.0138711e+02, 9.3788930e+01, 9.5331500e+01, 9.6110950e+01,\n",
       "       9.6909850e+01, 9.8939700e+01, 9.9060580e+01, 9.9160080e+01,\n",
       "       9.8752200e+01, 1.0229650e+02, 9.6023420e+01, 1.0137961e+02,\n",
       "       1.0112133e+02, 1.0193665e+02, 1.0100667e+02, 9.6093990e+01,\n",
       "       9.7791840e+01, 9.7791840e+01])"
      ]
     },
     "execution_count": 29,
     "metadata": {},
     "output_type": "execute_result"
    }
   ],
   "source": [
    "modelrfr.predict(x)"
   ]
  },
  {
   "cell_type": "code",
   "execution_count": null,
   "metadata": {},
   "outputs": [],
   "source": []
  },
  {
   "cell_type": "code",
   "execution_count": null,
   "metadata": {},
   "outputs": [],
   "source": []
  },
  {
   "cell_type": "code",
   "execution_count": 179,
   "metadata": {},
   "outputs": [],
   "source": [
    "x = windpowernew.speed.values.reshape(-1,1) # Reshape to values between -1 and 1 so we can use regression analysis\n",
    "y = windpowernew[\"power\"]"
   ]
  },
  {
   "cell_type": "code",
   "execution_count": 180,
   "metadata": {},
   "outputs": [],
   "source": [
    "predlin = modellin.predict(x)\n",
    "predgbr = modelgbr.predict(x)\n",
    "predrfr = modelrfr.predict(x)"
   ]
  },
  {
   "cell_type": "markdown",
   "metadata": {},
   "source": [
    "Plot the predictions of modelgbr against actual y values"
   ]
  },
  {
   "cell_type": "code",
   "execution_count": 181,
   "metadata": {},
   "outputs": [
    {
     "data": {
      "image/png": "[encoded data removed]",
      "text/plain": [
       "<Figure size 432x288 with 1 Axes>"
      ]
     },
     "metadata": {
      "needs_background": "light"
     },
     "output_type": "display_data"
    }
   ],
   "source": [
    "plt.scatter(x, y, color='red')\n",
    "plt.plot(x, predlin, color='black') #Plot predictions of linear regression model in black, against actual y output values in red.\n",
    "plt.title('Linear regression')\n",
    "plt.xlabel('Wind Speed in mph')\n",
    "plt.ylabel('Power output in Watts')\n",
    "plt.show()\n",
    "\n"
   ]
  },
  {
   "cell_type": "code",
   "execution_count": 182,
   "metadata": {},
   "outputs": [
    {
     "data": {
      "image/png": "[encoded data removed]",
      "text/plain": [
       "<Figure size 432x288 with 1 Axes>"
      ]
     },
     "metadata": {
      "needs_background": "light"
     },
     "output_type": "display_data"
    }
   ],
   "source": [
    "plt.scatter(x, y, color='green')\n",
    "plt.plot(x, predgbr, color='black') #Plot predictions of GradientBoostingRegressor in black, against actual y output values in pink.\n",
    "plt.title('Gradient Boosting Regressor')\n",
    "plt.xlabel('Wind Speed in mph')\n",
    "plt.ylabel('Power output in Watts')\n",
    "plt.show()"
   ]
  },
  {
   "cell_type": "code",
   "execution_count": 183,
   "metadata": {},
   "outputs": [
    {
     "data": {
      "image/png": "[encoded data removed]",
      "text/plain": [
       "<Figure size 432x288 with 1 Axes>"
      ]
     },
     "metadata": {
      "needs_background": "light"
     },
     "output_type": "display_data"
    }
   ],
   "source": [
    "plt.scatter(x, y, color='pink')\n",
    "plt.plot(x, predrfr, color='black') #Plot predictions of Random Forest Regressor in black, against actual y output values in pink.\n",
    "plt.title('Random Forest Regressor')\n",
    "plt.xlabel('Wind Speed in mph')\n",
    "plt.ylabel('Power output in Watts')\n",
    "plt.show()\n",
    "   "
   ]
  },
  {
   "cell_type": "markdown",
   "metadata": {},
   "source": [
    "Both the gradient boosting regressor, as the random forest regressor methods give much more accurate results than the linear regression model. The gradient boosting method performs marginally better, so will use this as my model to predict power output from wind speed. "
   ]
  },
  {
   "cell_type": "markdown",
   "metadata": {},
   "source": [
    "#### User input as input for model"
   ]
  },
  {
   "cell_type": "markdown",
   "metadata": {},
   "source": [
    "Let's test our chosen model with a user input value. This is something I will be doing later with the web service as well, so important that this part works."
   ]
  },
  {
   "cell_type": "code",
   "execution_count": 199,
   "metadata": {},
   "outputs": [
    {
     "name": "stdout",
     "output_type": "stream",
     "text": [
      "6\n"
     ]
    }
   ],
   "source": [
    "arr = np.array(input().split(), dtype='float') # Split the input string into a list. Then convert the list into a numpy array.\n",
    "# Adapted from https://stackoverflow.com/questions/61246741/how-to-take-user-input-from-a-single-line-in-numpy-array"
   ]
  },
  {
   "cell_type": "code",
   "execution_count": 200,
   "metadata": {},
   "outputs": [],
   "source": [
    "inpvalue = arr.reshape(-1,1)"
   ]
  },
  {
   "cell_type": "code",
   "execution_count": 201,
   "metadata": {
    "scrolled": true
   },
   "outputs": [
    {
     "data": {
      "text/plain": [
       "array([3.62000196])"
      ]
     },
     "execution_count": 201,
     "metadata": {},
     "output_type": "execute_result"
    }
   ],
   "source": [
    "modelgbr.predict(inpvalue)"
   ]
  },
  {
   "cell_type": "markdown",
   "metadata": {},
   "source": [
    "#### Random number as input for model"
   ]
  },
  {
   "cell_type": "code",
   "execution_count": 202,
   "metadata": {},
   "outputs": [],
   "source": [
    "rdarr = np.array(np.random.uniform(low=1, high=24.0)) # Generate a random number between 1 and 24, representing the wind speed. Between those values our model works most accurately."
   ]
  },
  {
   "cell_type": "code",
   "execution_count": 203,
   "metadata": {},
   "outputs": [
    {
     "data": {
      "text/plain": [
       "array(19.66456512)"
      ]
     },
     "execution_count": 203,
     "metadata": {},
     "output_type": "execute_result"
    }
   ],
   "source": [
    "rdarr"
   ]
  },
  {
   "cell_type": "code",
   "execution_count": 204,
   "metadata": {},
   "outputs": [],
   "source": [
    "rdarrrs = rdarr.reshape(-1,1) # Reshape the array to fit the model"
   ]
  },
  {
   "cell_type": "code",
   "execution_count": 205,
   "metadata": {},
   "outputs": [
    {
     "data": {
      "text/plain": [
       "array([[19.66456512]])"
      ]
     },
     "execution_count": 205,
     "metadata": {},
     "output_type": "execute_result"
    }
   ],
   "source": [
    "rdarrrs"
   ]
  },
  {
   "cell_type": "code",
   "execution_count": 206,
   "metadata": {},
   "outputs": [
    {
     "data": {
      "text/plain": [
       "array([96.06343461])"
      ]
     },
     "execution_count": 206,
     "metadata": {},
     "output_type": "execute_result"
    }
   ],
   "source": [
    "modelgbr.predict(rdarrrs) # Let our gradient boosting model predict the power output "
   ]
  },
  {
   "cell_type": "code",
   "execution_count": null,
   "metadata": {},
   "outputs": [],
   "source": []
  },
  {
   "cell_type": "code",
   "execution_count": null,
   "metadata": {},
   "outputs": [],
   "source": []
  },
  {
   "cell_type": "raw",
   "metadata": {},
   "source": []
  },
  {
   "cell_type": "markdown",
   "metadata": {},
   "source": []
  },
  {
   "cell_type": "code",
   "execution_count": null,
   "metadata": {},
   "outputs": [],
   "source": []
  },
  {
   "cell_type": "code",
   "execution_count": null,
   "metadata": {},
   "outputs": [],
   "source": []
  },
  {
   "cell_type": "markdown",
   "metadata": {},
   "source": [
    "Explain regression methods above\n",
    "TRY NEURAL NETWORK TRAINING?? Find examples"
   ]
  },
  {
   "cell_type": "code",
   "execution_count": null,
   "metadata": {},
   "outputs": [],
   "source": []
  },
  {
   "cell_type": "code",
   "execution_count": null,
   "metadata": {},
   "outputs": [],
   "source": []
  },
  {
   "cell_type": "code",
   "execution_count": null,
   "metadata": {},
   "outputs": [],
   "source": []
  },
  {
   "cell_type": "code",
   "execution_count": null,
   "metadata": {},
   "outputs": [],
   "source": []
  },
  {
   "cell_type": "code",
   "execution_count": null,
   "metadata": {},
   "outputs": [],
   "source": [
    "# Fitting GradientBoostingRegressor to the dataset \n",
    "# Adapted from: https://towardsdatascience.com/machine-learning-polynomial-regression-with-python-5328e4e8a386\n",
    "\n",
    "poly_reg = PolynomialFeatures(degree=1) #transfrom data into a polynomial.\n",
    "X_poly = poly_reg.fit_transform(X)\n",
    "pol_reg = GradientBoostingRegressor()\n",
    "pol_reg.fit(X_poly, y)\n",
    "\n",
    "# Visualizing the Polymonial Regression results\n",
    "def polymonial():\n",
    "    plt.scatter(X, y, color='green')\n",
    "    plt.plot(X, pol_reg.predict(poly_reg.fit_transform(X)), color='black')\n",
    "    plt.title('Polynomial regression')\n",
    "    plt.xlabel('Wind Speed in mph')\n",
    "    plt.ylabel('Power output in Watts')\n",
    "    plt.show()\n",
    "    return\n",
    "polymonial()"
   ]
  },
  {
   "cell_type": "code",
   "execution_count": null,
   "metadata": {},
   "outputs": [],
   "source": []
  },
  {
   "cell_type": "code",
   "execution_count": null,
   "metadata": {},
   "outputs": [],
   "source": []
  },
  {
   "cell_type": "code",
   "execution_count": null,
   "metadata": {},
   "outputs": [],
   "source": []
  },
  {
   "cell_type": "code",
   "execution_count": null,
   "metadata": {},
   "outputs": [],
   "source": []
  },
  {
   "cell_type": "code",
   "execution_count": null,
   "metadata": {},
   "outputs": [],
   "source": []
  },
  {
   "cell_type": "code",
   "execution_count": null,
   "metadata": {},
   "outputs": [],
   "source": []
  },
  {
   "cell_type": "code",
   "execution_count": null,
   "metadata": {},
   "outputs": [],
   "source": []
  },
  {
   "cell_type": "code",
   "execution_count": null,
   "metadata": {},
   "outputs": [],
   "source": []
  },
  {
   "cell_type": "code",
   "execution_count": null,
   "metadata": {},
   "outputs": [],
   "source": []
  },
  {
   "cell_type": "code",
   "execution_count": null,
   "metadata": {},
   "outputs": [],
   "source": [
    "x = windpowernew[\"speed\"]"
   ]
  },
  {
   "cell_type": "code",
   "execution_count": null,
   "metadata": {},
   "outputs": [],
   "source": [
    "y = windpowernew[\"power\"]"
   ]
  },
  {
   "cell_type": "code",
   "execution_count": null,
   "metadata": {},
   "outputs": [],
   "source": [
    "m, c = np.polyfit(x, y, 1) # Use regression on x and y with Numpy"
   ]
  },
  {
   "cell_type": "code",
   "execution_count": null,
   "metadata": {},
   "outputs": [],
   "source": [
    "m, c # Numpy finds that, on average, x should roughly be multiplied by 5.55 and then take 18.87 away to get y values. \n",
    "# First value (what x will be multiplied with) will be called m from now on, and second value (to be taken away) will be called c."
   ]
  },
  {
   "cell_type": "code",
   "execution_count": null,
   "metadata": {},
   "outputs": [],
   "source": []
  },
  {
   "cell_type": "code",
   "execution_count": null,
   "metadata": {},
   "outputs": [],
   "source": []
  },
  {
   "cell_type": "code",
   "execution_count": null,
   "metadata": {},
   "outputs": [],
   "source": [
    "plt.plot(x, y, 'k.', label = \"Measured data\") # Plot x and y and regression line. https://web.microsoftstream.com/video/4486d827-1d6b-481a-a570-a6264ddf1c43\n",
    "plt.plot(x, m * x + c, 'r-', label =\"Best fit line\")  # Plot a red best fit line\n",
    "\n",
    "# Add axis labels and legend\n",
    "plt.xlabel(\"wind-speed (mph)\")\n",
    "plt.ylabel(\"Power (Watts)\")\n",
    "plt.legend()\n",
    "\n",
    "plt.show() # Show plot"
   ]
  },
  {
   "cell_type": "markdown",
   "metadata": {},
   "source": [
    "There is clearly a relationship between the variables, and the best fit line is not awfully wrong, but I am going to try polynomial regression now, to see if it might fit even better."
   ]
  },
  {
   "cell_type": "markdown",
   "metadata": {},
   "source": [
    "#### Polynomial regression"
   ]
  },
  {
   "cell_type": "markdown",
   "metadata": {},
   "source": [
    "Polynomial regression is a form of regression analysis. It is used when the relationship between x and y is nonlinear. It is a special case of linear regression where we fit a polynomial equation on the data with a curvilinear relationship between the target variable and the independent variables. # https://www.analyticsvidhya.com/blog/2020/03/polynomial-regression-python/"
   ]
  },
  {
   "cell_type": "code",
   "execution_count": null,
   "metadata": {},
   "outputs": [],
   "source": []
  },
  {
   "cell_type": "code",
   "execution_count": null,
   "metadata": {},
   "outputs": [],
   "source": []
  },
  {
   "cell_type": "code",
   "execution_count": null,
   "metadata": {},
   "outputs": [],
   "source": []
  },
  {
   "cell_type": "code",
   "execution_count": null,
   "metadata": {},
   "outputs": [],
   "source": [
    "X = windpowernew.speed.values.reshape(-1,1) # Reshape to values between -1 and 1 so we can use regression analysis"
   ]
  },
  {
   "cell_type": "code",
   "execution_count": null,
   "metadata": {},
   "outputs": [],
   "source": [
    "y = windpowernew[\"power\"]"
   ]
  },
  {
   "cell_type": "code",
   "execution_count": null,
   "metadata": {},
   "outputs": [],
   "source": []
  },
  {
   "cell_type": "code",
   "execution_count": null,
   "metadata": {},
   "outputs": [],
   "source": []
  },
  {
   "cell_type": "code",
   "execution_count": null,
   "metadata": {},
   "outputs": [],
   "source": []
  },
  {
   "cell_type": "code",
   "execution_count": null,
   "metadata": {},
   "outputs": [],
   "source": [
    "# Fitting Polynomial Regression to the dataset \n",
    "# Adapted from: https://towardsdatascience.com/machine-learning-polynomial-regression-with-python-5328e4e8a386\n",
    "\n",
    "poly_reg = PolynomialFeatures(degree=9) #transfrom data into a polynomial. I have chosen an 9-degree polynomial\n",
    "# which is quite complex, but it fits the dataset the best. \n",
    "X_poly = poly_reg.fit_transform(X)\n",
    "pol_reg = LinearRegression()\n",
    "pol_reg.fit(X_poly, y)\n",
    "\n",
    "# Visualizing the Polymonial Regression results\n",
    "def polymonial():\n",
    "    plt.scatter(X, y, color='green')\n",
    "    plt.plot(X, pol_reg.predict(poly_reg.fit_transform(X)), color='black')\n",
    "    plt.title('Polynomial regression')\n",
    "    plt.xlabel('Wind Speed in mph')\n",
    "    plt.ylabel('Power output in Watts')\n",
    "    plt.show()\n",
    "    return\n",
    "polymonial()"
   ]
  },
  {
   "cell_type": "markdown",
   "metadata": {},
   "source": [
    "From the above plot we can instantly see that the polynomial regression fits the dataset better and will be more useful for predicting values of power output, using the wind speed."
   ]
  },
  {
   "cell_type": "code",
   "execution_count": null,
   "metadata": {},
   "outputs": [],
   "source": [
    "pol_reg.predict(poly_reg.fit_transform([[5]])) # Using the predict function to predict values of power output Y based on the wind speed X"
   ]
  },
  {
   "cell_type": "code",
   "execution_count": null,
   "metadata": {},
   "outputs": [],
   "source": [
    "pol_reg.predict(poly_reg.fit_transform([[10]])) # Double checking if this prediction method exactly mimics the best fit line above."
   ]
  },
  {
   "cell_type": "code",
   "execution_count": null,
   "metadata": {},
   "outputs": [],
   "source": [
    "pol_reg.predict(poly_reg.fit_transform([[15]]))"
   ]
  },
  {
   "cell_type": "code",
   "execution_count": null,
   "metadata": {
    "scrolled": true
   },
   "outputs": [],
   "source": [
    "pol_reg.predict(poly_reg.fit_transform([[20]]))"
   ]
  },
  {
   "cell_type": "code",
   "execution_count": null,
   "metadata": {},
   "outputs": [],
   "source": [
    "np.sqrt(mean_squared_error(y,poly_pred))"
   ]
  },
  {
   "cell_type": "code",
   "execution_count": null,
   "metadata": {},
   "outputs": [],
   "source": [
    "# separate independent and target variable. Adapted from: https://www.analyticsvidhya.com/blog/2020/01/build-your-first-machine-learning-pipeline-using-scikit-learn/?utm_source=blog&utm_medium=polynomial-regression-python\n",
    "train_X = windpowernew.speed.values.reshape(-1,1)\n",
    "train_Y = windpowernew[\"power\"]"
   ]
  },
  {
   "cell_type": "code",
   "execution_count": null,
   "metadata": {},
   "outputs": [],
   "source": [
    "# Split the data at random\n",
    "train_x, test_x, train_y, test_y = train_test_split(train_X, train_Y,test_size=0.25,random_state=0)"
   ]
  },
  {
   "cell_type": "code",
   "execution_count": null,
   "metadata": {},
   "outputs": [],
   "source": [
    "# shape of train and test splits\n",
    "train_x.shape, test_x.shape, train_y.shape, test_y.shape"
   ]
  },
  {
   "cell_type": "markdown",
   "metadata": {},
   "source": [
    "Let's calculate the RMSE values of the linear regression model, as well as the polynomial regression model. The root mean squared error is the most popular evaluation metric used in regression problems. RMSE is a very valuable tool, but one of the downsides is, it is highly affected by outlier values. (PERHAPS REMOVE ALL 0 VALUES FROM DATASET?! calculate rmse for both with and without 0 values)"
   ]
  },
  {
   "cell_type": "code",
   "execution_count": null,
   "metadata": {},
   "outputs": [],
   "source": [
    "# create an object of the LinearRegression Model\n",
    "model_LR = LinearRegression()\n",
    "\n",
    "# fit the model with the training data\n",
    "model_LR.fit(train_x, train_y)\n",
    "\n",
    "# predict the target on train and test data \n",
    "predict_train = model_LR.predict(train_x)\n",
    "predict_test  = model_LR.predict(test_x)\n",
    "\n",
    "# Root Mean Squared Error on train and test date\n",
    "print('RMSE on train data: ', mean_squared_error(train_y, predict_train)**(0.5))\n",
    "print('RMSE on test data: ',  mean_squared_error(test_y, predict_test)**(0.5))"
   ]
  },
  {
   "cell_type": "code",
   "execution_count": null,
   "metadata": {},
   "outputs": [],
   "source": []
  },
  {
   "cell_type": "code",
   "execution_count": null,
   "metadata": {},
   "outputs": [],
   "source": []
  },
  {
   "cell_type": "code",
   "execution_count": null,
   "metadata": {},
   "outputs": [],
   "source": []
  },
  {
   "cell_type": "markdown",
   "metadata": {},
   "source": [
    "When looking at the output values of the <i> pol_reg.predict </i> function, we can see they correspond perfectly with the best fit line, which in turn corresponds very well to the data points which were measured. It seems we have our model we can use for predicting power output from wind speeds."
   ]
  },
  {
   "cell_type": "markdown",
   "metadata": {},
   "source": [
    "One of the key aspects of supervised machine learning is model evaluation and validation. When you evaluate the predictive performance of your model, it’s essential that the process be unbiased. Using train_test_split() from the data science library scikit-learn, you can split your dataset into subsets that minimize the potential for bias in your evaluation and validation process. #https://realpython.com/train-test-split-python-data/"
   ]
  },
  {
   "cell_type": "markdown",
   "metadata": {},
   "source": [
    "Now, let's use machinelearning to predict the power output from the wind speed. Add, train and test neural network"
   ]
  },
  {
   "cell_type": "code",
   "execution_count": null,
   "metadata": {},
   "outputs": [],
   "source": []
  },
  {
   "cell_type": "code",
   "execution_count": null,
   "metadata": {},
   "outputs": [],
   "source": []
  },
  {
   "cell_type": "code",
   "execution_count": null,
   "metadata": {},
   "outputs": [],
   "source": []
  },
  {
   "cell_type": "code",
   "execution_count": null,
   "metadata": {},
   "outputs": [],
   "source": []
  },
  {
   "cell_type": "code",
   "execution_count": null,
   "metadata": {},
   "outputs": [],
   "source": []
  },
  {
   "cell_type": "code",
   "execution_count": null,
   "metadata": {},
   "outputs": [],
   "source": []
  },
  {
   "cell_type": "code",
   "execution_count": null,
   "metadata": {},
   "outputs": [],
   "source": []
  },
  {
   "cell_type": "code",
   "execution_count": null,
   "metadata": {},
   "outputs": [],
   "source": []
  },
  {
   "cell_type": "code",
   "execution_count": null,
   "metadata": {},
   "outputs": [],
   "source": []
  },
  {
   "cell_type": "code",
   "execution_count": null,
   "metadata": {},
   "outputs": [],
   "source": []
  },
  {
   "cell_type": "code",
   "execution_count": null,
   "metadata": {},
   "outputs": [],
   "source": []
  },
  {
   "cell_type": "code",
   "execution_count": null,
   "metadata": {},
   "outputs": [],
   "source": []
  },
  {
   "cell_type": "code",
   "execution_count": null,
   "metadata": {},
   "outputs": [],
   "source": []
  },
  {
   "cell_type": "code",
   "execution_count": null,
   "metadata": {},
   "outputs": [],
   "source": []
  },
  {
   "cell_type": "code",
   "execution_count": null,
   "metadata": {},
   "outputs": [],
   "source": []
  },
  {
   "cell_type": "code",
   "execution_count": null,
   "metadata": {},
   "outputs": [],
   "source": []
  },
  {
   "cell_type": "code",
   "execution_count": null,
   "metadata": {},
   "outputs": [],
   "source": []
  },
  {
   "cell_type": "code",
   "execution_count": null,
   "metadata": {},
   "outputs": [],
   "source": [
    "https://web.microsoftstream.com/video/4486d827-1d6b-481a-a570-a6264ddf1c43 Video on regression using skikit-learn by Ian Mcloughlin \n",
    "    Plotting polynomial: https://www.analyticsvidhya.com/blog/2020/03/polynomial-regression-python/"
   ]
  }
 ],
 "metadata": {
  "kernelspec": {
   "display_name": "Python 3",
   "language": "python",
   "name": "python3"
  },
  "language_info": {
   "codemirror_mode": {
    "name": "ipython",
    "version": 3
   },
   "file_extension": ".py",
   "mimetype": "text/x-python",
   "name": "python",
   "nbconvert_exporter": "python",
   "pygments_lexer": "ipython3",
   "version": "3.7.9"
  }
 },
 "nbformat": 4,
 "nbformat_minor": 4
}
