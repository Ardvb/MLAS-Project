{
 "cells": [
  {
   "cell_type": "markdown",
   "metadata": {},
   "source": [
    "# Machine Learning and Statistics Project 2020"
   ]
  },
  {
   "cell_type": "code",
   "execution_count": 50,
   "metadata": {},
   "outputs": [],
   "source": [
    "# Import all necessary libraries\n",
    "\n",
    "# Numerical arrays\n",
    "import numpy as np\n",
    "\n",
    "#For plotting\n",
    "import matplotlib.pyplot as plt\n",
    "\n",
    "%matplotlib inline \n",
    "# Magic fix\n",
    "\n",
    "# Data frames\n",
    "import pandas as pd\n",
    "\n",
    "# To use linear model\n",
    "from sklearn.linear_model import LinearRegression\n",
    "\n",
    "# To split dataset into train and test parts\n",
    "from sklearn.model_selection import train_test_split\n",
    "\n",
    "# To calculate mean_squared_error\n",
    "from sklearn.metrics import mean_squared_error\n",
    "\n",
    "# Plotting library\n",
    "import seaborn as sns\n",
    "\n",
    "# To use gradient boosting regression model\n",
    "from sklearn.ensemble import GradientBoostingRegressor\n",
    "\n",
    "# to use random forest regression model\n",
    "from sklearn.ensemble import RandomForestRegressor\n",
    "\n",
    "# To stop showing warnings. Only imported this after finishing to make notebook look better.\n",
    "import warnings\n",
    "warnings.filterwarnings('ignore')"
   ]
  },
  {
   "cell_type": "markdown",
   "metadata": {},
   "source": [
    "For the project of this module we have been asked to create a web service that uses machine learning to make predictions based on the data in dataset <i>power production</i>. The goal is to produce a model that accurately predicts the wind turbine power output from the wind speed. After that, we have to develop a web service that will respond with predicted power values, based on speed values sent as HTTP requests."
   ]
  },
  {
   "cell_type": "markdown",
   "metadata": {},
   "source": [
    "### Exploration of dataset and preprocessing"
   ]
  },
  {
   "cell_type": "markdown",
   "metadata": {},
   "source": [
    "Let's have a look at the dataset first. And then use regression to look at the relationship between wind speed and power output."
   ]
  },
  {
   "cell_type": "code",
   "execution_count": 2,
   "metadata": {},
   "outputs": [
    {
     "data": {
      "text/html": [
       "<div>\n",
       "<style scoped>\n",
       "    .dataframe tbody tr th:only-of-type {\n",
       "        vertical-align: middle;\n",
       "    }\n",
       "\n",
       "    .dataframe tbody tr th {\n",
       "        vertical-align: top;\n",
       "    }\n",
       "\n",
       "    .dataframe thead th {\n",
       "        text-align: right;\n",
       "    }\n",
       "</style>\n",
       "<table border=\"1\" class=\"dataframe\">\n",
       "  <thead>\n",
       "    <tr style=\"text-align: right;\">\n",
       "      <th></th>\n",
       "      <th>speed</th>\n",
       "      <th>power</th>\n",
       "    </tr>\n",
       "  </thead>\n",
       "  <tbody>\n",
       "    <tr>\n",
       "      <th>0</th>\n",
       "      <td>0.000</td>\n",
       "      <td>0.0</td>\n",
       "    </tr>\n",
       "    <tr>\n",
       "      <th>1</th>\n",
       "      <td>0.125</td>\n",
       "      <td>0.0</td>\n",
       "    </tr>\n",
       "    <tr>\n",
       "      <th>2</th>\n",
       "      <td>0.150</td>\n",
       "      <td>0.0</td>\n",
       "    </tr>\n",
       "    <tr>\n",
       "      <th>3</th>\n",
       "      <td>0.225</td>\n",
       "      <td>0.0</td>\n",
       "    </tr>\n",
       "    <tr>\n",
       "      <th>4</th>\n",
       "      <td>0.275</td>\n",
       "      <td>0.0</td>\n",
       "    </tr>\n",
       "    <tr>\n",
       "      <th>...</th>\n",
       "      <td>...</td>\n",
       "      <td>...</td>\n",
       "    </tr>\n",
       "    <tr>\n",
       "      <th>495</th>\n",
       "      <td>24.775</td>\n",
       "      <td>0.0</td>\n",
       "    </tr>\n",
       "    <tr>\n",
       "      <th>496</th>\n",
       "      <td>24.850</td>\n",
       "      <td>0.0</td>\n",
       "    </tr>\n",
       "    <tr>\n",
       "      <th>497</th>\n",
       "      <td>24.875</td>\n",
       "      <td>0.0</td>\n",
       "    </tr>\n",
       "    <tr>\n",
       "      <th>498</th>\n",
       "      <td>24.950</td>\n",
       "      <td>0.0</td>\n",
       "    </tr>\n",
       "    <tr>\n",
       "      <th>499</th>\n",
       "      <td>25.000</td>\n",
       "      <td>0.0</td>\n",
       "    </tr>\n",
       "  </tbody>\n",
       "</table>\n",
       "<p>500 rows × 2 columns</p>\n",
       "</div>"
      ],
      "text/plain": [
       "      speed  power\n",
       "0     0.000    0.0\n",
       "1     0.125    0.0\n",
       "2     0.150    0.0\n",
       "3     0.225    0.0\n",
       "4     0.275    0.0\n",
       "..      ...    ...\n",
       "495  24.775    0.0\n",
       "496  24.850    0.0\n",
       "497  24.875    0.0\n",
       "498  24.950    0.0\n",
       "499  25.000    0.0\n",
       "\n",
       "[500 rows x 2 columns]"
      ]
     },
     "execution_count": 2,
     "metadata": {},
     "output_type": "execute_result"
    }
   ],
   "source": [
    "windpower = pd.read_csv('https://raw.githubusercontent.com/ianmcloughlin/2020A-machstat-project/master/dataset/powerproduction.csv')\n",
    "windpower"
   ]
  },
  {
   "cell_type": "code",
   "execution_count": 3,
   "metadata": {},
   "outputs": [
    {
     "data": {
      "text/plain": [
       "speed    0\n",
       "power    0\n",
       "dtype: int64"
      ]
     },
     "execution_count": 3,
     "metadata": {},
     "output_type": "execute_result"
    }
   ],
   "source": [
    "windpower.isna().sum() # Check for missing values. https://www.analyticsvidhya.com/blog/2020/01/build-your-first-machine-learning-pipeline-using-scikit-learn/?utm_source=blog&utm_medium=polynomial-regression-python"
   ]
  },
  {
   "cell_type": "markdown",
   "metadata": {},
   "source": [
    "It turns out there are no missing values. That means the dataset consists of 500 measured values of wind speed and the corresponding power outputs."
   ]
  },
  {
   "cell_type": "code",
   "execution_count": 4,
   "metadata": {
    "scrolled": true
   },
   "outputs": [
    {
     "data": {
      "text/html": [
       "<div>\n",
       "<style scoped>\n",
       "    .dataframe tbody tr th:only-of-type {\n",
       "        vertical-align: middle;\n",
       "    }\n",
       "\n",
       "    .dataframe tbody tr th {\n",
       "        vertical-align: top;\n",
       "    }\n",
       "\n",
       "    .dataframe thead th {\n",
       "        text-align: right;\n",
       "    }\n",
       "</style>\n",
       "<table border=\"1\" class=\"dataframe\">\n",
       "  <thead>\n",
       "    <tr style=\"text-align: right;\">\n",
       "      <th></th>\n",
       "      <th>speed</th>\n",
       "      <th>power</th>\n",
       "    </tr>\n",
       "  </thead>\n",
       "  <tbody>\n",
       "    <tr>\n",
       "      <th>count</th>\n",
       "      <td>500.000000</td>\n",
       "      <td>500.000000</td>\n",
       "    </tr>\n",
       "    <tr>\n",
       "      <th>mean</th>\n",
       "      <td>12.590398</td>\n",
       "      <td>48.014584</td>\n",
       "    </tr>\n",
       "    <tr>\n",
       "      <th>std</th>\n",
       "      <td>7.224991</td>\n",
       "      <td>41.614572</td>\n",
       "    </tr>\n",
       "    <tr>\n",
       "      <th>min</th>\n",
       "      <td>0.000000</td>\n",
       "      <td>0.000000</td>\n",
       "    </tr>\n",
       "    <tr>\n",
       "      <th>25%</th>\n",
       "      <td>6.324750</td>\n",
       "      <td>5.288000</td>\n",
       "    </tr>\n",
       "    <tr>\n",
       "      <th>50%</th>\n",
       "      <td>12.550500</td>\n",
       "      <td>41.645500</td>\n",
       "    </tr>\n",
       "    <tr>\n",
       "      <th>75%</th>\n",
       "      <td>18.775250</td>\n",
       "      <td>93.537000</td>\n",
       "    </tr>\n",
       "    <tr>\n",
       "      <th>max</th>\n",
       "      <td>25.000000</td>\n",
       "      <td>113.556000</td>\n",
       "    </tr>\n",
       "  </tbody>\n",
       "</table>\n",
       "</div>"
      ],
      "text/plain": [
       "            speed       power\n",
       "count  500.000000  500.000000\n",
       "mean    12.590398   48.014584\n",
       "std      7.224991   41.614572\n",
       "min      0.000000    0.000000\n",
       "25%      6.324750    5.288000\n",
       "50%     12.550500   41.645500\n",
       "75%     18.775250   93.537000\n",
       "max     25.000000  113.556000"
      ]
     },
     "execution_count": 4,
     "metadata": {},
     "output_type": "execute_result"
    }
   ],
   "source": [
    "windpower.describe()"
   ]
  },
  {
   "cell_type": "code",
   "execution_count": 5,
   "metadata": {},
   "outputs": [
    {
     "data": {
      "text/plain": [
       "<seaborn.axisgrid.PairGrid at 0x2f324d67948>"
      ]
     },
     "execution_count": 5,
     "metadata": {},
     "output_type": "execute_result"
    },
    {
     "data": {
      "image/png": "[encoded data removed]",
      "text/plain": [
       "<Figure size 360x360 with 6 Axes>"
      ]
     },
     "metadata": {
      "needs_background": "light"
     },
     "output_type": "display_data"
    }
   ],
   "source": [
    "sns.pairplot(windpower)"
   ]
  },
  {
   "cell_type": "markdown",
   "metadata": {},
   "source": [
    "There is clearly a correlation between the wind speed x and the power y. Up until a wind-speed value of about 8, the output-power is close to 0. Also it looks as if there is a certain maximum power output, that is reached at about 18 mph. It looks like there might have been a problem with the wind turbine (perhaps a powercut, or maintenance work), as there are some instances of 0 power output, despite high wind speeds. It might be wise to remove these values to make the machine learning process easier and the predictions more accurate."
   ]
  },
  {
   "cell_type": "markdown",
   "metadata": {},
   "source": [
    "I will remove all values where power is 0 and speed is bigger than 10. These are nearly certainly measurements that were not taken during normal operation of the wind turbine and as such will only hinder our machine learning process."
   ]
  },
  {
   "cell_type": "code",
   "execution_count": 6,
   "metadata": {},
   "outputs": [],
   "source": [
    "windpowernew = windpower.drop(windpower[(windpower[\"speed\"]> 10) & (windpower[\"power\"]==0)].index)\n",
    "# Adapted from https://www.geeksforgeeks.org/drop-rows-from-the-dataframe-based-on-certain-condition-applied-on-a-column/"
   ]
  },
  {
   "cell_type": "code",
   "execution_count": 7,
   "metadata": {},
   "outputs": [
    {
     "data": {
      "text/html": [
       "<div>\n",
       "<style scoped>\n",
       "    .dataframe tbody tr th:only-of-type {\n",
       "        vertical-align: middle;\n",
       "    }\n",
       "\n",
       "    .dataframe tbody tr th {\n",
       "        vertical-align: top;\n",
       "    }\n",
       "\n",
       "    .dataframe thead th {\n",
       "        text-align: right;\n",
       "    }\n",
       "</style>\n",
       "<table border=\"1\" class=\"dataframe\">\n",
       "  <thead>\n",
       "    <tr style=\"text-align: right;\">\n",
       "      <th></th>\n",
       "      <th>speed</th>\n",
       "      <th>power</th>\n",
       "    </tr>\n",
       "  </thead>\n",
       "  <tbody>\n",
       "    <tr>\n",
       "      <th>0</th>\n",
       "      <td>0.000</td>\n",
       "      <td>0.000</td>\n",
       "    </tr>\n",
       "    <tr>\n",
       "      <th>1</th>\n",
       "      <td>0.125</td>\n",
       "      <td>0.000</td>\n",
       "    </tr>\n",
       "    <tr>\n",
       "      <th>2</th>\n",
       "      <td>0.150</td>\n",
       "      <td>0.000</td>\n",
       "    </tr>\n",
       "    <tr>\n",
       "      <th>3</th>\n",
       "      <td>0.225</td>\n",
       "      <td>0.000</td>\n",
       "    </tr>\n",
       "    <tr>\n",
       "      <th>4</th>\n",
       "      <td>0.275</td>\n",
       "      <td>0.000</td>\n",
       "    </tr>\n",
       "    <tr>\n",
       "      <th>...</th>\n",
       "      <td>...</td>\n",
       "      <td>...</td>\n",
       "    </tr>\n",
       "    <tr>\n",
       "      <th>485</th>\n",
       "      <td>24.249</td>\n",
       "      <td>103.700</td>\n",
       "    </tr>\n",
       "    <tr>\n",
       "      <th>486</th>\n",
       "      <td>24.299</td>\n",
       "      <td>93.694</td>\n",
       "    </tr>\n",
       "    <tr>\n",
       "      <th>487</th>\n",
       "      <td>24.349</td>\n",
       "      <td>93.078</td>\n",
       "    </tr>\n",
       "    <tr>\n",
       "      <th>488</th>\n",
       "      <td>24.374</td>\n",
       "      <td>98.223</td>\n",
       "    </tr>\n",
       "    <tr>\n",
       "      <th>489</th>\n",
       "      <td>24.399</td>\n",
       "      <td>95.117</td>\n",
       "    </tr>\n",
       "  </tbody>\n",
       "</table>\n",
       "<p>486 rows × 2 columns</p>\n",
       "</div>"
      ],
      "text/plain": [
       "      speed    power\n",
       "0     0.000    0.000\n",
       "1     0.125    0.000\n",
       "2     0.150    0.000\n",
       "3     0.225    0.000\n",
       "4     0.275    0.000\n",
       "..      ...      ...\n",
       "485  24.249  103.700\n",
       "486  24.299   93.694\n",
       "487  24.349   93.078\n",
       "488  24.374   98.223\n",
       "489  24.399   95.117\n",
       "\n",
       "[486 rows x 2 columns]"
      ]
     },
     "execution_count": 7,
     "metadata": {},
     "output_type": "execute_result"
    }
   ],
   "source": [
    "windpowernew"
   ]
  },
  {
   "cell_type": "markdown",
   "metadata": {},
   "source": [
    "14 unwanted values have been removed."
   ]
  },
  {
   "cell_type": "markdown",
   "metadata": {},
   "source": [
    "### Using supervised machine learning on the dataset"
   ]
  },
  {
   "cell_type": "markdown",
   "metadata": {},
   "source": [
    "Since we know which y values correspond to which x values, we can use supervised machine learning to train a model to make predictions based on our dataset. Before I am going to use the dataset to build a model, I am going to split it in a train and a test set, so we can evaluate the model with data the model hasn't seen before. One of the key aspects of supervised machine learning is model evaluation and validation. When you evaluate the predictive performance of your model, it’s essential that the process be unbiased. Using train_test_split() from the data science library scikit-learn, you can split your dataset into subsets that minimize the potential for bias in your evaluation and validation process. <sup>1</sup>"
   ]
  },
  {
   "cell_type": "code",
   "execution_count": 8,
   "metadata": {},
   "outputs": [],
   "source": [
    "x = windpowernew.speed.values.reshape(-1,1) # Reshape to values between -1 and 1 so we can use regression analysis later\n",
    "y = windpowernew[\"power\"]"
   ]
  },
  {
   "cell_type": "code",
   "execution_count": 9,
   "metadata": {},
   "outputs": [],
   "source": [
    "# Splitting the dataset into the Training set and Test set\n",
    "x_train, x_test, y_train, y_test = train_test_split(x, y, test_size=0.2, random_state=0) # Using random state to make test reproducible."
   ]
  },
  {
   "cell_type": "code",
   "execution_count": 10,
   "metadata": {},
   "outputs": [
    {
     "data": {
      "text/plain": [
       "array([[19.645],\n",
       "       [23.223],\n",
       "       [11.386],\n",
       "       [24.049],\n",
       "       [11.211],\n",
       "       [ 3.078],\n",
       "       [20.646],\n",
       "       [19.069],\n",
       "       [ 7.683],\n",
       "       [23.373],\n",
       "       [23.799],\n",
       "       [ 3.504],\n",
       "       [20.871],\n",
       "       [ 2.177],\n",
       "       [15.24 ],\n",
       "       [ 2.953],\n",
       "       [12.462],\n",
       "       [21.722],\n",
       "       [19.97 ],\n",
       "       [18.393],\n",
       "       [ 6.231],\n",
       "       [11.361],\n",
       "       [11.161],\n",
       "       [16.091],\n",
       "       [18.944],\n",
       "       [20.045],\n",
       "       [ 7.883],\n",
       "       [22.322],\n",
       "       [ 2.477],\n",
       "       [19.044],\n",
       "       [ 2.703],\n",
       "       [ 3.804],\n",
       "       [ 1.076],\n",
       "       [ 8.959],\n",
       "       [ 0.275],\n",
       "       [16.466],\n",
       "       [ 0.325],\n",
       "       [12.037],\n",
       "       [ 6.857],\n",
       "       [22.673],\n",
       "       [ 6.156],\n",
       "       [ 0.976],\n",
       "       [ 3.604],\n",
       "       [ 0.926],\n",
       "       [ 8.458],\n",
       "       [ 0.701],\n",
       "       [13.989],\n",
       "       [10.385],\n",
       "       [ 3.428],\n",
       "       [15.34 ],\n",
       "       [20.521],\n",
       "       [ 4.304],\n",
       "       [17.518],\n",
       "       [16.366],\n",
       "       [ 7.708],\n",
       "       [23.298],\n",
       "       [22.472],\n",
       "       [23.549],\n",
       "       [17.843],\n",
       "       [ 8.759],\n",
       "       [18.218],\n",
       "       [12.487],\n",
       "       [ 2.578],\n",
       "       [20.345],\n",
       "       [14.489],\n",
       "       [24.249],\n",
       "       [ 8.083],\n",
       "       [ 5.631],\n",
       "       [15.716],\n",
       "       [ 3.403],\n",
       "       [21.046],\n",
       "       [20.796],\n",
       "       [21.672],\n",
       "       [12.663],\n",
       "       [ 4.88 ],\n",
       "       [15.591],\n",
       "       [16.692],\n",
       "       [ 4.98 ],\n",
       "       [15.265],\n",
       "       [15.415],\n",
       "       [21.071],\n",
       "       [ 4.955],\n",
       "       [ 0.826],\n",
       "       [ 7.257],\n",
       "       [ 7.833],\n",
       "       [ 7.508],\n",
       "       [12.738],\n",
       "       [15.991],\n",
       "       [11.987],\n",
       "       [23.974],\n",
       "       [13.388],\n",
       "       [ 3.529],\n",
       "       [15.465],\n",
       "       [11.937],\n",
       "       [ 7.107],\n",
       "       [ 5.305],\n",
       "       [18.994],\n",
       "       [ 0.15 ],\n",
       "       [19.845],\n",
       "       [ 0.801],\n",
       "       [ 7.307],\n",
       "       [11.737],\n",
       "       [20.571],\n",
       "       [ 1.276],\n",
       "       [ 5.931],\n",
       "       [10.886],\n",
       "       [ 5.455],\n",
       "       [18.769],\n",
       "       [18.594],\n",
       "       [ 8.834],\n",
       "       [17.793],\n",
       "       [ 5.981],\n",
       "       [ 8.308],\n",
       "       [23.248],\n",
       "       [ 6.106],\n",
       "       [12.788],\n",
       "       [ 5.831],\n",
       "       [17.618],\n",
       "       [22.523],\n",
       "       [14.189],\n",
       "       [ 6.957],\n",
       "       [ 9.86 ],\n",
       "       [22.773],\n",
       "       [ 9.259],\n",
       "       [ 6.406],\n",
       "       [23.323],\n",
       "       [11.862],\n",
       "       [19.945],\n",
       "       [18.368],\n",
       "       [17.467],\n",
       "       [ 6.782],\n",
       "       [ 1.426],\n",
       "       [23.473],\n",
       "       [ 7.933],\n",
       "       [ 1.502],\n",
       "       [ 2.102],\n",
       "       [ 5.18 ],\n",
       "       [ 4.555],\n",
       "       [ 3.203],\n",
       "       [ 8.208],\n",
       "       [10.16 ],\n",
       "       [ 8.659],\n",
       "       [19.77 ],\n",
       "       [13.714],\n",
       "       [24.024],\n",
       "       [20.671],\n",
       "       [19.795],\n",
       "       [ 5.706],\n",
       "       [21.822],\n",
       "       [11.111],\n",
       "       [ 2.227],\n",
       "       [19.67 ],\n",
       "       [23.624],\n",
       "       [18.744],\n",
       "       [ 3.779],\n",
       "       [ 6.982],\n",
       "       [23.574],\n",
       "       [ 1.552],\n",
       "       [14.389],\n",
       "       [ 1.251],\n",
       "       [17.643],\n",
       "       [16.942],\n",
       "       [21.922],\n",
       "       [11.036],\n",
       "       [ 1.101],\n",
       "       [16.617],\n",
       "       [16.717],\n",
       "       [ 7.733],\n",
       "       [16.667],\n",
       "       [17.067],\n",
       "       [ 7.057],\n",
       "       [10.761],\n",
       "       [ 5.506],\n",
       "       [19.094],\n",
       "       [23.423],\n",
       "       [17.367],\n",
       "       [10.986],\n",
       "       [18.844],\n",
       "       [ 9.835],\n",
       "       [10.961],\n",
       "       [10.285],\n",
       "       [11.962],\n",
       "       [12.988],\n",
       "       [ 3.579],\n",
       "       [ 1.026],\n",
       "       [11.011],\n",
       "       [11.336],\n",
       "       [ 6.607],\n",
       "       [ 5.806],\n",
       "       [ 8.183],\n",
       "       [20.27 ],\n",
       "       [19.194],\n",
       "       [ 1.877],\n",
       "       [14.039],\n",
       "       [17.543],\n",
       "       [ 3.979],\n",
       "       [17.267],\n",
       "       [15.741],\n",
       "       [ 0.676],\n",
       "       [14.715],\n",
       "       [20.12 ],\n",
       "       [24.199],\n",
       "       [11.687],\n",
       "       [ 7.908],\n",
       "       [ 4.429],\n",
       "       [24.349],\n",
       "       [23.348],\n",
       "       [ 5.781],\n",
       "       [ 7.432],\n",
       "       [ 7.608],\n",
       "       [ 0.751],\n",
       "       [16.842],\n",
       "       [ 5.731],\n",
       "       [17.417],\n",
       "       [ 7.082],\n",
       "       [12.162],\n",
       "       [13.038],\n",
       "       [18.544],\n",
       "       [21.396],\n",
       "       [12.538],\n",
       "       [18.869],\n",
       "       [ 0.851],\n",
       "       [15.19 ],\n",
       "       [13.739],\n",
       "       [11.612],\n",
       "       [19.169],\n",
       "       [ 0.225],\n",
       "       [17.317],\n",
       "       [ 6.356],\n",
       "       [14.364],\n",
       "       [14.64 ],\n",
       "       [ 3.929],\n",
       "       [ 9.535],\n",
       "       [18.418],\n",
       "       [23.498],\n",
       "       [14.139],\n",
       "       [15.14 ],\n",
       "       [21.471],\n",
       "       [ 9.309],\n",
       "       [22.222],\n",
       "       [ 4.179],\n",
       "       [15.666],\n",
       "       [12.963],\n",
       "       [ 0.576],\n",
       "       [18.318],\n",
       "       [ 4.605],\n",
       "       [13.539],\n",
       "       [ 1.652],\n",
       "       [23.599],\n",
       "       [ 3.053],\n",
       "       [ 1.902],\n",
       "       [13.939],\n",
       "       [ 2.553],\n",
       "       [10.661],\n",
       "       [19.545],\n",
       "       [19.444],\n",
       "       [20.22 ],\n",
       "       [ 6.181],\n",
       "       [11.311],\n",
       "       [ 3.378],\n",
       "       [18.519],\n",
       "       [ 6.682],\n",
       "       [ 9.735],\n",
       "       [ 1.001],\n",
       "       [ 2.077],\n",
       "       [ 0.   ],\n",
       "       [10.21 ],\n",
       "       [20.771],\n",
       "       [ 5.205],\n",
       "       [17.568],\n",
       "       [15.49 ],\n",
       "       [23.849],\n",
       "       [ 8.884],\n",
       "       [18.619],\n",
       "       [12.863],\n",
       "       [ 5.03 ],\n",
       "       [23.023],\n",
       "       [ 5.08 ],\n",
       "       [22.823],\n",
       "       [ 8.408],\n",
       "       [ 3.629],\n",
       "       [15.541],\n",
       "       [ 2.402],\n",
       "       [17.342],\n",
       "       [18.794],\n",
       "       [10.485],\n",
       "       [14.339],\n",
       "       [11.662],\n",
       "       [ 7.407],\n",
       "       [ 7.207],\n",
       "       [16.992],\n",
       "       [ 9.209],\n",
       "       [17.893],\n",
       "       [ 6.732],\n",
       "       [22.247],\n",
       "       [24.374],\n",
       "       [13.313],\n",
       "       [16.592],\n",
       "       [10.26 ],\n",
       "       [ 4.53 ],\n",
       "       [ 6.131],\n",
       "       [23.699],\n",
       "       [22.347],\n",
       "       [22.798],\n",
       "       [22.422],\n",
       "       [19.269],\n",
       "       [ 4.93 ],\n",
       "       [ 4.329],\n",
       "       [13.564],\n",
       "       [ 6.081],\n",
       "       [18.068],\n",
       "       [14.865],\n",
       "       [ 3.028],\n",
       "       [16.441],\n",
       "       [12.888],\n",
       "       [18.919],\n",
       "       [22.147],\n",
       "       [ 2.027],\n",
       "       [ 5.556],\n",
       "       [19.595],\n",
       "       [22.873],\n",
       "       [14.014],\n",
       "       [22.022],\n",
       "       [ 1.702],\n",
       "       [19.62 ],\n",
       "       [ 2.828],\n",
       "       [21.121],\n",
       "       [21.496],\n",
       "       [ 6.481],\n",
       "       [14.84 ],\n",
       "       [ 1.151],\n",
       "       [ 9.434],\n",
       "       [18.694],\n",
       "       [ 8.033],\n",
       "       [ 7.558],\n",
       "       [12.387],\n",
       "       [10.235],\n",
       "       [ 1.301],\n",
       "       [ 1.401],\n",
       "       [ 6.456],\n",
       "       [ 9.56 ],\n",
       "       [23.273],\n",
       "       [14.74 ],\n",
       "       [21.421],\n",
       "       [19.895],\n",
       "       [22.497],\n",
       "       [ 7.382],\n",
       "       [14.615],\n",
       "       [23.123],\n",
       "       [ 8.859],\n",
       "       [ 5.255],\n",
       "       [17.142],\n",
       "       [22.723],\n",
       "       [21.847],\n",
       "       [17.017],\n",
       "       [10.11 ],\n",
       "       [12.362],\n",
       "       [ 5.956],\n",
       "       [20.17 ],\n",
       "       [13.438],\n",
       "       [ 3.729],\n",
       "       [16.967],\n",
       "       [ 1.051],\n",
       "       [ 8.133],\n",
       "       [17.117],\n",
       "       [23.724],\n",
       "       [ 8.684],\n",
       "       [23.824],\n",
       "       [ 1.827],\n",
       "       [ 9.96 ],\n",
       "       [16.041],\n",
       "       [19.82 ],\n",
       "       [ 4.78 ],\n",
       "       [ 3.679],\n",
       "       [ 4.73 ],\n",
       "       [15.065],\n",
       "       [12.337],\n",
       "       [14.264],\n",
       "       [10.736],\n",
       "       [ 0.526],\n",
       "       [18.093],\n",
       "       [10.035],\n",
       "       [12.613],\n",
       "       [16.567],\n",
       "       [ 9.935],\n",
       "       [ 6.006],\n",
       "       [ 2.252],\n",
       "       [ 8.634]])"
      ]
     },
     "execution_count": 10,
     "metadata": {},
     "output_type": "execute_result"
    }
   ],
   "source": [
    "x_train #388 random values to be used to train the model. The values correspond with y_train"
   ]
  },
  {
   "cell_type": "code",
   "execution_count": 55,
   "metadata": {},
   "outputs": [
    {
     "data": {
      "text/plain": [
       "array([[ 0.726],\n",
       "       [12.563],\n",
       "       [ 7.182],\n",
       "       [17.818],\n",
       "       [ 4.905],\n",
       "       [19.57 ],\n",
       "       [ 7.232],\n",
       "       [24.299],\n",
       "       [ 5.13 ],\n",
       "       [ 0.951]])"
      ]
     },
     "execution_count": 55,
     "metadata": {},
     "output_type": "execute_result"
    }
   ],
   "source": [
    "x_test[:10] #98 random values to be used to test the model. Values correspond with y_test. \n",
    "# Show only 10 values for readability of this notebook"
   ]
  },
  {
   "cell_type": "code",
   "execution_count": 12,
   "metadata": {
    "scrolled": true
   },
   "outputs": [
    {
     "data": {
      "text/plain": [
       "15      0.000\n",
       "250    42.336\n",
       "142     0.067\n",
       "356    93.105\n",
       "90      7.060\n",
       "        ...  \n",
       "424    98.682\n",
       "246    52.952\n",
       "251    54.079\n",
       "191    27.136\n",
       "171    11.422\n",
       "Name: power, Length: 98, dtype: float64"
      ]
     },
     "execution_count": 12,
     "metadata": {},
     "output_type": "execute_result"
    }
   ],
   "source": [
    "y_test"
   ]
  },
  {
   "cell_type": "markdown",
   "metadata": {},
   "source": [
    "### Regression"
   ]
  },
  {
   "cell_type": "markdown",
   "metadata": {},
   "source": [
    "Regression is a way to look at the relationship between a dependent and one or more independent variables. In this case, we are going to look at the possible correlation between the wind speed input, and the power output. If there is indeed a relationship, then it is crucial to find an accurate model for making predictions. First we need to choose which regression style fits our dataset the best."
   ]
  },
  {
   "cell_type": "markdown",
   "metadata": {},
   "source": [
    "#### Linear regression"
   ]
  },
  {
   "cell_type": "code",
   "execution_count": 13,
   "metadata": {},
   "outputs": [],
   "source": [
    "modellin = LinearRegression().fit(x_train, y_train) # LinearRegression creates the object that represents the model,\n",
    "# while.fit() trains the model and returns it. #https://realpython.com/train-test-split-python-data/"
   ]
  },
  {
   "cell_type": "code",
   "execution_count": 14,
   "metadata": {},
   "outputs": [
    {
     "data": {
      "text/plain": [
       "0.9048045436283305"
      ]
     },
     "execution_count": 14,
     "metadata": {},
     "output_type": "execute_result"
    }
   ],
   "source": [
    "modellin.score(x_train, y_train)"
   ]
  },
  {
   "cell_type": "code",
   "execution_count": 15,
   "metadata": {},
   "outputs": [
    {
     "data": {
      "text/plain": [
       "0.8921510775206934"
      ]
     },
     "execution_count": 15,
     "metadata": {},
     "output_type": "execute_result"
    }
   ],
   "source": [
    "modellin.score(x_test, y_test)"
   ]
  },
  {
   "cell_type": "markdown",
   "metadata": {},
   "source": [
    "<i>.score()</i> returns R² (coeffecient of determination) for the data passed in. The maximum value is 1, which would mean a perfect fit. The R² calculated with the test data is an unbiased measure of that model's prediction performance. <sup>1</sup>"
   ]
  },
  {
   "cell_type": "markdown",
   "metadata": {},
   "source": [
    "It is best practice to use the <i>.score()</i> value obtained from the test set, as it represents an unbiased estimation of performance."
   ]
  },
  {
   "cell_type": "markdown",
   "metadata": {},
   "source": [
    "Let's visualize the linear model's predictions against the actual y values."
   ]
  },
  {
   "cell_type": "code",
   "execution_count": 19,
   "metadata": {},
   "outputs": [],
   "source": [
    "predlin = modellin.predict(x)"
   ]
  },
  {
   "cell_type": "code",
   "execution_count": 20,
   "metadata": {},
   "outputs": [
    {
     "data": {
      "image/png": "[encoded data removed]",
      "text/plain": [
       "<Figure size 432x288 with 1 Axes>"
      ]
     },
     "metadata": {
      "needs_background": "light"
     },
     "output_type": "display_data"
    }
   ],
   "source": [
    "plt.scatter(x, y, color='red')\n",
    "plt.plot(x, predlin, color='black') #Plot predictions of linear regression model in black, against actual y output values in red.\n",
    "plt.title('Linear regression')\n",
    "plt.xlabel('Wind Speed in mph')\n",
    "plt.ylabel('Power output in Watts')\n",
    "plt.show()\n"
   ]
  },
  {
   "cell_type": "markdown",
   "metadata": {},
   "source": [
    "As you can see, our linear regression model is not doing too great on predicting y values, so let's have a look at two other potentially useful models."
   ]
  },
  {
   "cell_type": "markdown",
   "metadata": {},
   "source": [
    "#### Gradient Boosting Regressor"
   ]
  },
  {
   "cell_type": "markdown",
   "metadata": {},
   "source": [
    "Gradient boosting is a machine learning technique for regression problems. It produces a prediction model, based on many combined weak prediction models. It is a method of converting weak learners into strong learners. Gradient boosting starts with a single decision tree, and then identifies it's shortcomings by comparing the predicted and true values in a loss function. In that loss function, it uses gradients to identify the error (y=ax+b+e, where e is the error term).\n",
    "So in this case, the loss function would be based off the error between true and predicted wind speeds. This process is repeated for many small models.If a model predicts observations accurately, these observations are left for the original model. Where the model struggles, another, modified model is created to try and get it's predictions closer to the real values. Numerous models are created this way, increasing and decreasing weights depending on how close the prediction was to the real value. Eventually this leads to a final ensemble model, that has been optimized to get it's predictions as close as possible to the real values. <sup>2</sup> <sup>3</sup>\n"
   ]
  },
  {
   "cell_type": "code",
   "execution_count": 56,
   "metadata": {},
   "outputs": [
    {
     "data": {
      "text/plain": [
       "0.9868525424567058"
      ]
     },
     "execution_count": 56,
     "metadata": {},
     "output_type": "execute_result"
    }
   ],
   "source": [
    "modelgbr = GradientBoostingRegressor(random_state=0).fit(x_train, y_train) # Train the Gradient Boosting Model\n",
    "modelgbr.score(x_test, y_test) # Get the coeffecient of determination"
   ]
  },
  {
   "cell_type": "markdown",
   "metadata": {},
   "source": [
    "#### Random Forest Regressor"
   ]
  },
  {
   "cell_type": "markdown",
   "metadata": {},
   "source": [
    "A random forest is an ensemble technique capable of performing regression and classification tasks. It uses multiple decision trees and a technique called bagging.<sup>4</sup> "
   ]
  },
  {
   "cell_type": "markdown",
   "metadata": {},
   "source": [
    "![](randomforestr.jpeg)"
   ]
  },
  {
   "cell_type": "markdown",
   "metadata": {},
   "source": [
    "Bagging means the training of each decision tree on a different data sample, where sampling is done with replacement.\n",
    "Multiple decision trees are then combined to determine the final prediction, rather than relying on individual decision trees."
   ]
  },
  {
   "cell_type": "code",
   "execution_count": 33,
   "metadata": {},
   "outputs": [
    {
     "data": {
      "text/plain": [
       "0.9843215351438528"
      ]
     },
     "execution_count": 33,
     "metadata": {},
     "output_type": "execute_result"
    }
   ],
   "source": [
    "modelrfr = RandomForestRegressor(random_state=0).fit(x_train, y_train) # Train the model\n",
    "modelrfr.score(x_test, y_test) # Test the model with the coeffecient of determination"
   ]
  },
  {
   "cell_type": "code",
   "execution_count": null,
   "metadata": {},
   "outputs": [],
   "source": [
    "x = windpowernew.speed.values.reshape(-1,1) # Reshape to values between -1 and 1 so we can use regression analysis\n",
    "y = windpowernew[\"power\"]"
   ]
  },
  {
   "cell_type": "code",
   "execution_count": 36,
   "metadata": {},
   "outputs": [],
   "source": [
    "predgbr = modelgbr.predict(x)\n",
    "predrfr = modelrfr.predict(x)"
   ]
  },
  {
   "cell_type": "markdown",
   "metadata": {},
   "source": [
    "Next, I will plot the predictions of the Gradient Boosting and Random Forest model agains the actual y values."
   ]
  },
  {
   "cell_type": "code",
   "execution_count": 37,
   "metadata": {},
   "outputs": [
    {
     "data": {
      "image/png": "[encoded data removed]",
      "text/plain": [
       "<Figure size 432x288 with 1 Axes>"
      ]
     },
     "metadata": {
      "needs_background": "light"
     },
     "output_type": "display_data"
    }
   ],
   "source": [
    "plt.scatter(x, y, color='green')\n",
    "plt.plot(x, predgbr, color='black') #Plot predictions of GradientBoostingRegressor in black, against actual y output values in pink.\n",
    "plt.title('Gradient Boosting Regressor')\n",
    "plt.xlabel('Wind Speed in mph')\n",
    "plt.ylabel('Power output in Watts')\n",
    "plt.show()"
   ]
  },
  {
   "cell_type": "code",
   "execution_count": 38,
   "metadata": {},
   "outputs": [
    {
     "data": {
      "image/png": "[encoded data removed]",
      "text/plain": [
       "<Figure size 432x288 with 1 Axes>"
      ]
     },
     "metadata": {
      "needs_background": "light"
     },
     "output_type": "display_data"
    }
   ],
   "source": [
    "plt.scatter(x, y, color='pink')\n",
    "plt.plot(x, predrfr, color='black') #Plot predictions of Random Forest Regressor in black, against actual y output values in pink.\n",
    "plt.title('Random Forest Regressor')\n",
    "plt.xlabel('Wind Speed in mph')\n",
    "plt.ylabel('Power output in Watts')\n",
    "plt.show()\n",
    "   "
   ]
  },
  {
   "cell_type": "markdown",
   "metadata": {},
   "source": [
    "Both the gradient boosting regressor, as well as the random forest regressor methods give much more accurate results than the linear regression model. The random forest model varies a bit more, especially for values close to 0, whereas the gradient boosting model's line is a lot more fluent. They both get very close to the actual values, so I am going to use both for my html prediction page."
   ]
  },
  {
   "cell_type": "markdown",
   "metadata": {},
   "source": [
    "#### User input as input for model"
   ]
  },
  {
   "cell_type": "markdown",
   "metadata": {},
   "source": [
    "Let's test our chosen model with a user input value. This is something I will be doing later with the web service as well, so important that this part works."
   ]
  },
  {
   "cell_type": "code",
   "execution_count": 42,
   "metadata": {},
   "outputs": [
    {
     "name": "stdout",
     "output_type": "stream",
     "text": [
      "5\n"
     ]
    }
   ],
   "source": [
    "arr = np.array(input().split(), dtype='float') # Split the input string into a list. Then convert the list into a numpy array.\n",
    "# Adapted from https://stackoverflow.com/questions/61246741/how-to-take-user-input-from-a-single-line-in-numpy-array"
   ]
  },
  {
   "cell_type": "code",
   "execution_count": 43,
   "metadata": {},
   "outputs": [],
   "source": [
    "inpvalue = arr.reshape(-1,1)"
   ]
  },
  {
   "cell_type": "code",
   "execution_count": 44,
   "metadata": {
    "scrolled": true
   },
   "outputs": [
    {
     "data": {
      "text/plain": [
       "array([3.61931016])"
      ]
     },
     "execution_count": 44,
     "metadata": {},
     "output_type": "execute_result"
    }
   ],
   "source": [
    "modelgbr.predict(inpvalue)"
   ]
  },
  {
   "cell_type": "markdown",
   "metadata": {},
   "source": [
    "#### Random number as input for model"
   ]
  },
  {
   "cell_type": "code",
   "execution_count": 45,
   "metadata": {},
   "outputs": [],
   "source": [
    "rdarr = np.array(np.random.uniform(low=1, high=24.0)) # Generate a random number between 1 and 24, representing the wind speed. Between those values our model works most accurately."
   ]
  },
  {
   "cell_type": "code",
   "execution_count": 46,
   "metadata": {},
   "outputs": [
    {
     "data": {
      "text/plain": [
       "array(23.98658911)"
      ]
     },
     "execution_count": 46,
     "metadata": {},
     "output_type": "execute_result"
    }
   ],
   "source": [
    "rdarr"
   ]
  },
  {
   "cell_type": "code",
   "execution_count": 47,
   "metadata": {},
   "outputs": [],
   "source": [
    "rdarrrs = rdarr.reshape(-1,1) # Reshape the array to fit the model"
   ]
  },
  {
   "cell_type": "code",
   "execution_count": 48,
   "metadata": {},
   "outputs": [
    {
     "data": {
      "text/plain": [
       "array([[23.98658911]])"
      ]
     },
     "execution_count": 48,
     "metadata": {},
     "output_type": "execute_result"
    }
   ],
   "source": [
    "rdarrrs"
   ]
  },
  {
   "cell_type": "code",
   "execution_count": 49,
   "metadata": {},
   "outputs": [
    {
     "data": {
      "text/plain": [
       "array([97.40659369])"
      ]
     },
     "execution_count": 49,
     "metadata": {},
     "output_type": "execute_result"
    }
   ],
   "source": [
    "modelgbr.predict(rdarrrs) # Let our gradient boosting model predict the power output "
   ]
  },
  {
   "cell_type": "markdown",
   "metadata": {},
   "source": [
    "Everything is working, so time to create an html page where power output will be predicted based on speed values sent as HTTP requests."
   ]
  },
  {
   "cell_type": "markdown",
   "metadata": {},
   "source": [
    "### References\n",
    "\n",
    "1. https://realpython.com/train-test-split-python-data/ # Splitting dataset in train and test parts\n",
    "2. https://towardsdatascience.com/understanding-gradient-boosting-machines-9be756fe76ab # Gradient Boosting\n",
    "3. https://machinelearningmastery.com/gentle-introduction-gradient-boosting-algorithm-machine-learning/ # Gradient Boosting\n",
    "4. https://medium.com/datadriveninvestor/random-forest-regression-9871bc9a25eb # Random Forest explained\n",
    "5. https://stackoverflow.com/questions/61246741/how-to-take-user-input-from-a-single-line-in-numpy-array # Taking user input in Numpy Array \n",
    "6.https://www.geeksforgeeks.org/drop-rows-from-the-dataframe-based-on-certain-condition-applied-on-a-column/ # How to select certain rows from a Pandas Dataframe\n",
    "7.https://web.microsoftstream.com/video/4486d827-1d6b-481a-a570-a6264ddf1c43 Video on regression using skikit-learn by Ian Mcloughlin \n"
   ]
  }
 ],
 "metadata": {
  "kernelspec": {
   "display_name": "Python 3",
   "language": "python",
   "name": "python3"
  },
  "language_info": {
   "codemirror_mode": {
    "name": "ipython",
    "version": 3
   },
   "file_extension": ".py",
   "mimetype": "text/x-python",
   "name": "python",
   "nbconvert_exporter": "python",
   "pygments_lexer": "ipython3",
   "version": "3.7.9"
  }
 },
 "nbformat": 4,
 "nbformat_minor": 4
}
